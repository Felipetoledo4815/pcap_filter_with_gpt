{
 "cells": [
  {
   "cell_type": "code",
   "execution_count": 1,
   "metadata": {},
   "outputs": [],
   "source": [
    "import pandas as pd\n",
    "import pickle\n",
    "import matplotlib.pyplot as plt\n",
    "import seaborn as sns"
   ]
  },
  {
   "attachments": {},
   "cell_type": "markdown",
   "metadata": {},
   "source": [
    "## Experiment 1"
   ]
  },
  {
   "cell_type": "code",
   "execution_count": 2,
   "metadata": {},
   "outputs": [],
   "source": [
    "# Load ./experiment/exp1.pkl\n",
    "with open('./experiment/exp1.pkl', 'rb') as f:\n",
    "    exp1 = pickle.load(f)"
   ]
  },
  {
   "cell_type": "code",
   "execution_count": 116,
   "metadata": {},
   "outputs": [],
   "source": [
    "# exp1['part1.pcap']"
   ]
  },
  {
   "cell_type": "code",
   "execution_count": 90,
   "metadata": {},
   "outputs": [],
   "source": [
    "times = []\n",
    "status = []\n",
    "df = pd.DataFrame(columns=['exp','pcap_file','time', 'status'])\n",
    "\n",
    "for pcap_file, exp in exp1.items():\n",
    "    for result in exp:\n",
    "        pred = \"Correct output\" if result['status'] else \"Wrong output\"\n",
    "        row = ['exp1', pcap_file, result['time'], pred]\n",
    "        df.loc[len(df)] = row"
   ]
  },
  {
   "cell_type": "code",
   "execution_count": 91,
   "metadata": {},
   "outputs": [
    {
     "data": {
      "text/html": [
       "<div>\n",
       "<style scoped>\n",
       "    .dataframe tbody tr th:only-of-type {\n",
       "        vertical-align: middle;\n",
       "    }\n",
       "\n",
       "    .dataframe tbody tr th {\n",
       "        vertical-align: top;\n",
       "    }\n",
       "\n",
       "    .dataframe thead th {\n",
       "        text-align: right;\n",
       "    }\n",
       "</style>\n",
       "<table border=\"1\" class=\"dataframe\">\n",
       "  <thead>\n",
       "    <tr style=\"text-align: right;\">\n",
       "      <th></th>\n",
       "      <th>exp</th>\n",
       "      <th>pcap_file</th>\n",
       "      <th>time</th>\n",
       "      <th>status</th>\n",
       "    </tr>\n",
       "  </thead>\n",
       "  <tbody>\n",
       "    <tr>\n",
       "      <th>0</th>\n",
       "      <td>exp1</td>\n",
       "      <td>part1.pcap</td>\n",
       "      <td>12.994660</td>\n",
       "      <td>Correct output</td>\n",
       "    </tr>\n",
       "    <tr>\n",
       "      <th>1</th>\n",
       "      <td>exp1</td>\n",
       "      <td>part1.pcap</td>\n",
       "      <td>3.860930</td>\n",
       "      <td>Correct output</td>\n",
       "    </tr>\n",
       "    <tr>\n",
       "      <th>2</th>\n",
       "      <td>exp1</td>\n",
       "      <td>part1.pcap</td>\n",
       "      <td>7.663754</td>\n",
       "      <td>Correct output</td>\n",
       "    </tr>\n",
       "    <tr>\n",
       "      <th>3</th>\n",
       "      <td>exp1</td>\n",
       "      <td>part1.pcap</td>\n",
       "      <td>10.039312</td>\n",
       "      <td>Correct output</td>\n",
       "    </tr>\n",
       "    <tr>\n",
       "      <th>4</th>\n",
       "      <td>exp1</td>\n",
       "      <td>part1.pcap</td>\n",
       "      <td>3.787827</td>\n",
       "      <td>Correct output</td>\n",
       "    </tr>\n",
       "    <tr>\n",
       "      <th>5</th>\n",
       "      <td>exp1</td>\n",
       "      <td>part1.pcap</td>\n",
       "      <td>4.425581</td>\n",
       "      <td>Correct output</td>\n",
       "    </tr>\n",
       "    <tr>\n",
       "      <th>6</th>\n",
       "      <td>exp1</td>\n",
       "      <td>home1.pcap</td>\n",
       "      <td>3.800905</td>\n",
       "      <td>Correct output</td>\n",
       "    </tr>\n",
       "    <tr>\n",
       "      <th>7</th>\n",
       "      <td>exp1</td>\n",
       "      <td>home1.pcap</td>\n",
       "      <td>4.280281</td>\n",
       "      <td>Correct output</td>\n",
       "    </tr>\n",
       "    <tr>\n",
       "      <th>8</th>\n",
       "      <td>exp1</td>\n",
       "      <td>home1.pcap</td>\n",
       "      <td>6.265347</td>\n",
       "      <td>Correct output</td>\n",
       "    </tr>\n",
       "    <tr>\n",
       "      <th>9</th>\n",
       "      <td>exp1</td>\n",
       "      <td>home1.pcap</td>\n",
       "      <td>5.797828</td>\n",
       "      <td>Correct output</td>\n",
       "    </tr>\n",
       "    <tr>\n",
       "      <th>10</th>\n",
       "      <td>exp1</td>\n",
       "      <td>home1.pcap</td>\n",
       "      <td>3.311048</td>\n",
       "      <td>Correct output</td>\n",
       "    </tr>\n",
       "    <tr>\n",
       "      <th>11</th>\n",
       "      <td>exp1</td>\n",
       "      <td>home1.pcap</td>\n",
       "      <td>3.993775</td>\n",
       "      <td>Correct output</td>\n",
       "    </tr>\n",
       "    <tr>\n",
       "      <th>12</th>\n",
       "      <td>exp1</td>\n",
       "      <td>uva1.pcap</td>\n",
       "      <td>6.170241</td>\n",
       "      <td>Correct output</td>\n",
       "    </tr>\n",
       "    <tr>\n",
       "      <th>13</th>\n",
       "      <td>exp1</td>\n",
       "      <td>uva1.pcap</td>\n",
       "      <td>6.549224</td>\n",
       "      <td>Correct output</td>\n",
       "    </tr>\n",
       "    <tr>\n",
       "      <th>14</th>\n",
       "      <td>exp1</td>\n",
       "      <td>uva1.pcap</td>\n",
       "      <td>9.013053</td>\n",
       "      <td>Correct output</td>\n",
       "    </tr>\n",
       "    <tr>\n",
       "      <th>15</th>\n",
       "      <td>exp1</td>\n",
       "      <td>uva1.pcap</td>\n",
       "      <td>5.857217</td>\n",
       "      <td>Correct output</td>\n",
       "    </tr>\n",
       "    <tr>\n",
       "      <th>16</th>\n",
       "      <td>exp1</td>\n",
       "      <td>uva1.pcap</td>\n",
       "      <td>6.430602</td>\n",
       "      <td>Correct output</td>\n",
       "    </tr>\n",
       "    <tr>\n",
       "      <th>17</th>\n",
       "      <td>exp1</td>\n",
       "      <td>uva1.pcap</td>\n",
       "      <td>4.409777</td>\n",
       "      <td>Correct output</td>\n",
       "    </tr>\n",
       "    <tr>\n",
       "      <th>18</th>\n",
       "      <td>exp1</td>\n",
       "      <td>home2.pcap</td>\n",
       "      <td>6.564349</td>\n",
       "      <td>Correct output</td>\n",
       "    </tr>\n",
       "    <tr>\n",
       "      <th>19</th>\n",
       "      <td>exp1</td>\n",
       "      <td>home2.pcap</td>\n",
       "      <td>3.953485</td>\n",
       "      <td>Correct output</td>\n",
       "    </tr>\n",
       "    <tr>\n",
       "      <th>20</th>\n",
       "      <td>exp1</td>\n",
       "      <td>home2.pcap</td>\n",
       "      <td>5.929892</td>\n",
       "      <td>Correct output</td>\n",
       "    </tr>\n",
       "    <tr>\n",
       "      <th>21</th>\n",
       "      <td>exp1</td>\n",
       "      <td>home2.pcap</td>\n",
       "      <td>5.947289</td>\n",
       "      <td>Correct output</td>\n",
       "    </tr>\n",
       "    <tr>\n",
       "      <th>22</th>\n",
       "      <td>exp1</td>\n",
       "      <td>home2.pcap</td>\n",
       "      <td>3.198527</td>\n",
       "      <td>Correct output</td>\n",
       "    </tr>\n",
       "    <tr>\n",
       "      <th>23</th>\n",
       "      <td>exp1</td>\n",
       "      <td>home2.pcap</td>\n",
       "      <td>4.787446</td>\n",
       "      <td>Correct output</td>\n",
       "    </tr>\n",
       "  </tbody>\n",
       "</table>\n",
       "</div>"
      ],
      "text/plain": [
       "     exp   pcap_file       time          status\n",
       "0   exp1  part1.pcap  12.994660  Correct output\n",
       "1   exp1  part1.pcap   3.860930  Correct output\n",
       "2   exp1  part1.pcap   7.663754  Correct output\n",
       "3   exp1  part1.pcap  10.039312  Correct output\n",
       "4   exp1  part1.pcap   3.787827  Correct output\n",
       "5   exp1  part1.pcap   4.425581  Correct output\n",
       "6   exp1  home1.pcap   3.800905  Correct output\n",
       "7   exp1  home1.pcap   4.280281  Correct output\n",
       "8   exp1  home1.pcap   6.265347  Correct output\n",
       "9   exp1  home1.pcap   5.797828  Correct output\n",
       "10  exp1  home1.pcap   3.311048  Correct output\n",
       "11  exp1  home1.pcap   3.993775  Correct output\n",
       "12  exp1   uva1.pcap   6.170241  Correct output\n",
       "13  exp1   uva1.pcap   6.549224  Correct output\n",
       "14  exp1   uva1.pcap   9.013053  Correct output\n",
       "15  exp1   uva1.pcap   5.857217  Correct output\n",
       "16  exp1   uva1.pcap   6.430602  Correct output\n",
       "17  exp1   uva1.pcap   4.409777  Correct output\n",
       "18  exp1  home2.pcap   6.564349  Correct output\n",
       "19  exp1  home2.pcap   3.953485  Correct output\n",
       "20  exp1  home2.pcap   5.929892  Correct output\n",
       "21  exp1  home2.pcap   5.947289  Correct output\n",
       "22  exp1  home2.pcap   3.198527  Correct output\n",
       "23  exp1  home2.pcap   4.787446  Correct output"
      ]
     },
     "execution_count": 91,
     "metadata": {},
     "output_type": "execute_result"
    }
   ],
   "source": [
    "df"
   ]
  },
  {
   "cell_type": "code",
   "execution_count": 109,
   "metadata": {},
   "outputs": [
    {
     "data": {
      "image/png": "[encoded data removed]",
      "text/plain": [
       "<Figure size 640x480 with 1 Axes>"
      ]
     },
     "metadata": {},
     "output_type": "display_data"
    }
   ],
   "source": [
    "boxplot = sns.boxplot(x='pcap_file', y='time', data=df)\n",
    "boxplot.set_xlabel('');\n",
    "boxplot.set_ylabel('Time (s)');\n",
    "boxplot.set_title('Time spent for generating answers by pcap file');"
   ]
  },
  {
   "cell_type": "code",
   "execution_count": 110,
   "metadata": {},
   "outputs": [
    {
     "data": {
      "image/png": "[encoded data removed]",
      "text/plain": [
       "<Figure size 640x480 with 1 Axes>"
      ]
     },
     "metadata": {},
     "output_type": "display_data"
    }
   ],
   "source": [
    "boxplot = sns.boxplot(data=df, x='exp', y='time', width=0.3)\n",
    "boxplot.set_xlabel('');\n",
    "boxplot.set_ylabel('Time (s)');\n",
    "boxplot.set_title('Time spent for generating answers by experiment');"
   ]
  },
  {
   "cell_type": "code",
   "execution_count": 111,
   "metadata": {},
   "outputs": [
    {
     "data": {
      "text/html": [
       "<div>\n",
       "<style scoped>\n",
       "    .dataframe tbody tr th:only-of-type {\n",
       "        vertical-align: middle;\n",
       "    }\n",
       "\n",
       "    .dataframe tbody tr th {\n",
       "        vertical-align: top;\n",
       "    }\n",
       "\n",
       "    .dataframe thead th {\n",
       "        text-align: right;\n",
       "    }\n",
       "</style>\n",
       "<table border=\"1\" class=\"dataframe\">\n",
       "  <thead>\n",
       "    <tr style=\"text-align: right;\">\n",
       "      <th></th>\n",
       "      <th>exp</th>\n",
       "      <th>pcap_file</th>\n",
       "      <th>status</th>\n",
       "      <th>count</th>\n",
       "    </tr>\n",
       "  </thead>\n",
       "  <tbody>\n",
       "    <tr>\n",
       "      <th>0</th>\n",
       "      <td>exp1</td>\n",
       "      <td>home1.pcap</td>\n",
       "      <td>Correct output</td>\n",
       "      <td>6</td>\n",
       "    </tr>\n",
       "    <tr>\n",
       "      <th>1</th>\n",
       "      <td>exp1</td>\n",
       "      <td>home2.pcap</td>\n",
       "      <td>Correct output</td>\n",
       "      <td>6</td>\n",
       "    </tr>\n",
       "    <tr>\n",
       "      <th>2</th>\n",
       "      <td>exp1</td>\n",
       "      <td>part1.pcap</td>\n",
       "      <td>Correct output</td>\n",
       "      <td>6</td>\n",
       "    </tr>\n",
       "    <tr>\n",
       "      <th>3</th>\n",
       "      <td>exp1</td>\n",
       "      <td>uva1.pcap</td>\n",
       "      <td>Correct output</td>\n",
       "      <td>6</td>\n",
       "    </tr>\n",
       "  </tbody>\n",
       "</table>\n",
       "</div>"
      ],
      "text/plain": [
       "    exp   pcap_file          status  count\n",
       "0  exp1  home1.pcap  Correct output      6\n",
       "1  exp1  home2.pcap  Correct output      6\n",
       "2  exp1  part1.pcap  Correct output      6\n",
       "3  exp1   uva1.pcap  Correct output      6"
      ]
     },
     "execution_count": 111,
     "metadata": {},
     "output_type": "execute_result"
    }
   ],
   "source": [
    "q_status = df.groupby(['exp','pcap_file','status']).count().rename(columns={'time': 'count'}).reset_index()\n",
    "q_status"
   ]
  },
  {
   "cell_type": "code",
   "execution_count": 112,
   "metadata": {},
   "outputs": [
    {
     "data": {
      "image/png": "[encoded data removed]",
      "text/plain": [
       "<Figure size 651.125x500 with 1 Axes>"
      ]
     },
     "metadata": {},
     "output_type": "display_data"
    }
   ],
   "source": [
    "barplot = sns.catplot(data=q_status, kind='bar', x='pcap_file', y='count', hue='status')\n",
    "barplot.set_axis_labels('Pcap files','Count');\n",
    "barplot.legend.set_title('Status');\n",
    "barplot.fig.suptitle('Number of correct and wrong answers by pcap file');"
   ]
  },
  {
   "cell_type": "code",
   "execution_count": 113,
   "metadata": {},
   "outputs": [
    {
     "data": {
      "text/html": [
       "<div>\n",
       "<style scoped>\n",
       "    .dataframe tbody tr th:only-of-type {\n",
       "        vertical-align: middle;\n",
       "    }\n",
       "\n",
       "    .dataframe tbody tr th {\n",
       "        vertical-align: top;\n",
       "    }\n",
       "\n",
       "    .dataframe thead th {\n",
       "        text-align: right;\n",
       "    }\n",
       "</style>\n",
       "<table border=\"1\" class=\"dataframe\">\n",
       "  <thead>\n",
       "    <tr style=\"text-align: right;\">\n",
       "      <th></th>\n",
       "      <th>status</th>\n",
       "      <th>count</th>\n",
       "    </tr>\n",
       "  </thead>\n",
       "  <tbody>\n",
       "    <tr>\n",
       "      <th>0</th>\n",
       "      <td>Correct output</td>\n",
       "      <td>24</td>\n",
       "    </tr>\n",
       "  </tbody>\n",
       "</table>\n",
       "</div>"
      ],
      "text/plain": [
       "           status  count\n",
       "0  Correct output     24"
      ]
     },
     "execution_count": 113,
     "metadata": {},
     "output_type": "execute_result"
    }
   ],
   "source": [
    "q_status_all = df.groupby(['status']).count().rename(columns={'time': 'count'})['count'].reset_index()\n",
    "q_status_all"
   ]
  },
  {
   "cell_type": "code",
   "execution_count": 115,
   "metadata": {},
   "outputs": [
    {
     "data": {
      "image/png": "[encoded data removed]",
      "text/plain": [
       "<Figure size 640x480 with 1 Axes>"
      ]
     },
     "metadata": {},
     "output_type": "display_data"
    }
   ],
   "source": [
    "barplot = sns.barplot(data=q_status_all, x='status', y='count', width=0.3)\n",
    "barplot.set_xlabel('');\n",
    "barplot.set_ylabel('Count');\n",
    "barplot.set_title('Number of correct and wrong answers by experiment');"
   ]
  }
 ],
 "metadata": {
  "kernelspec": {
   "display_name": "pcap_gpt",
   "language": "python",
   "name": "python3"
  },
  "language_info": {
   "codemirror_mode": {
    "name": "ipython",
    "version": 3
   },
   "file_extension": ".py",
   "mimetype": "text/x-python",
   "name": "python",
   "nbconvert_exporter": "python",
   "pygments_lexer": "ipython3",
   "version": "3.9.16"
  },
  "orig_nbformat": 4
 },
 "nbformat": 4,
 "nbformat_minor": 2
}
